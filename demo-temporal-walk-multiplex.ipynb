{
 "cells": [
  {
   "cell_type": "markdown",
   "metadata": {},
   "source": [
    "## Demonstration of temporal walks in a multiplex network\n",
    "### Author: Sameera Horawalavithana"
   ]
  },
  {
   "cell_type": "code",
   "execution_count": 1,
   "metadata": {},
   "outputs": [],
   "source": [
    "import pathpy as pp\n",
    "import os"
   ]
  },
  {
   "cell_type": "code",
   "execution_count": 2,
   "metadata": {},
   "outputs": [],
   "source": [
    "test_data_directory=\"./tests/test_data/\""
   ]
  },
  {
   "cell_type": "markdown",
   "metadata": {},
   "source": [
    "-- load the temporal network in layer 01"
   ]
  },
  {
   "cell_type": "code",
   "execution_count": 3,
   "metadata": {},
   "outputs": [
    {
     "name": "stdout",
     "output_type": "stream",
     "text": [
      "2019-05-28 22:45:32 [Severity.INFO]\tReading directed time-stamped links ...\n",
      "2019-05-28 22:45:32 [Severity.INFO]\tBuilding index data structures ...\n",
      "2019-05-28 22:45:32 [Severity.INFO]\tSorting time stamps ...\n",
      "2019-05-28 22:45:32 [Severity.INFO]\tfinished.\n"
     ]
    }
   ],
   "source": [
    "file_path = os.path.join(test_data_directory, 'multiplex_layer1.tedges')\n",
    "tempnet1 = pp.TemporalNetwork.read_file(file_path)"
   ]
  },
  {
   "cell_type": "code",
   "execution_count": 4,
   "metadata": {},
   "outputs": [
    {
     "name": "stdout",
     "output_type": "stream",
     "text": [
      "Nodes:\t\t\t5\n",
      "Time-stamped links:\t7\n",
      "Links/Nodes:\t\t1.4\n",
      "Observation period:\t[0, 8]\n",
      "Observation length:\t 8 \n",
      "Time stamps:\t\t 6 \n",
      "Avg. inter-event dt:\t 1.6\n",
      "Min/Max inter-event dt:\t 1/2\n"
     ]
    }
   ],
   "source": [
    "print(tempnet1)"
   ]
  },
  {
   "cell_type": "markdown",
   "metadata": {},
   "source": [
    "-- load the temporal network in layer 02"
   ]
  },
  {
   "cell_type": "code",
   "execution_count": 5,
   "metadata": {},
   "outputs": [
    {
     "name": "stdout",
     "output_type": "stream",
     "text": [
      "2019-05-28 22:45:32 [Severity.INFO]\tReading directed time-stamped links ...\n",
      "2019-05-28 22:45:32 [Severity.INFO]\tBuilding index data structures ...\n",
      "2019-05-28 22:45:32 [Severity.INFO]\tSorting time stamps ...\n",
      "2019-05-28 22:45:32 [Severity.INFO]\tfinished.\n"
     ]
    }
   ],
   "source": [
    "file_path = os.path.join(test_data_directory, 'multiplex_layer2.tedges')\n",
    "tempnet2 = pp.TemporalNetwork.read_file(file_path)"
   ]
  },
  {
   "cell_type": "code",
   "execution_count": 6,
   "metadata": {},
   "outputs": [
    {
     "name": "stdout",
     "output_type": "stream",
     "text": [
      "Nodes:\t\t\t5\n",
      "Time-stamped links:\t7\n",
      "Links/Nodes:\t\t1.4\n",
      "Observation period:\t[1, 8]\n",
      "Observation length:\t 7 \n",
      "Time stamps:\t\t 6 \n",
      "Avg. inter-event dt:\t 1.4\n",
      "Min/Max inter-event dt:\t 1/2\n"
     ]
    }
   ],
   "source": [
    "print(tempnet2)"
   ]
  },
  {
   "cell_type": "markdown",
   "metadata": {},
   "source": [
    "-- load the cross-layer edges"
   ]
  },
  {
   "cell_type": "code",
   "execution_count": 7,
   "metadata": {},
   "outputs": [
    {
     "name": "stdout",
     "output_type": "stream",
     "text": [
      "2019-05-28 22:45:32 [Severity.INFO]\tReading edge list ... \n",
      "2019-05-28 22:45:32 [Severity.INFO]\tfinished.\n"
     ]
    }
   ],
   "source": [
    "file_path = os.path.join(test_data_directory, 'multiplex_cross_layer.edges')\n",
    "layernet = pp.Network.read_file(file_path)"
   ]
  },
  {
   "cell_type": "markdown",
   "metadata": {},
   "source": [
    "Nodes in the cross-layer network has a node property called `layer`"
   ]
  },
  {
   "cell_type": "code",
   "execution_count": 8,
   "metadata": {},
   "outputs": [],
   "source": [
    "for node_id,node_prop in layernet.nodes.items():\n",
    "    if int(node_id)<10:\n",
    "        layernet.nodes[node_id]={\"layer\":1}\n",
    "    else:\n",
    "        layernet.nodes[node_id]={\"layer\":2}"
   ]
  },
  {
   "cell_type": "code",
   "execution_count": 9,
   "metadata": {},
   "outputs": [
    {
     "data": {
      "text/plain": [
       "defaultdict(dict,\n",
       "            {'1': {'layer': 1},\n",
       "             '10': {'layer': 2},\n",
       "             '2': {'layer': 1},\n",
       "             '20': {'layer': 2},\n",
       "             '3': {'layer': 1},\n",
       "             '30': {'layer': 2}})"
      ]
     },
     "execution_count": 9,
     "metadata": {},
     "output_type": "execute_result"
    }
   ],
   "source": [
    "layernet.nodes"
   ]
  },
  {
   "cell_type": "markdown",
   "metadata": {},
   "source": [
    "*Run the temporal walk in a multiplex network*,\n",
    "Input parameters consist of the layer networks in the order of interest (e.g., `tempnet1,tempnet2`), current implementation only supports two layers.\n",
    "the cross layer mappings are provided in the `layernet`,you can specify a start node and a start layer, unless it  will pick randomly."
   ]
  },
  {
   "cell_type": "markdown",
   "metadata": {},
   "source": [
    "The walker moves on links within layers (intra-layer links) and links between layers (inter-layer links).\n",
    "Inter-layer edges act as bridges in this implementation, they do not have any timestamp associated with.\n",
    "While crossing the layers, the walker picks up an edge forward in the time.\n",
    "Target nodes are picked randomly.\n",
    "This implementation does not support any constraints on the movement (e.g., favor inter-layer edges than intra-layer edges)"
   ]
  },
  {
   "cell_type": "code",
   "execution_count": 32,
   "metadata": {},
   "outputs": [
    {
     "name": "stdout",
     "output_type": "stream",
     "text": [
      "['30', '20', '2', '1']\n"
     ]
    }
   ],
   "source": [
    "rw=pp.algorithms.random_walk_multiplex._temporal_walk_layer(tempnet1,tempnet2,layernet,start_node=\"30\",start_layer=2)\n",
    "print(rw)"
   ]
  }
 ],
 "metadata": {
  "kernelspec": {
   "display_name": "Python 3",
   "language": "python",
   "name": "python3"
  },
  "language_info": {
   "codemirror_mode": {
    "name": "ipython",
    "version": 3
   },
   "file_extension": ".py",
   "mimetype": "text/x-python",
   "name": "python",
   "nbconvert_exporter": "python",
   "pygments_lexer": "ipython3",
   "version": "3.6.5"
  }
 },
 "nbformat": 4,
 "nbformat_minor": 2
}
